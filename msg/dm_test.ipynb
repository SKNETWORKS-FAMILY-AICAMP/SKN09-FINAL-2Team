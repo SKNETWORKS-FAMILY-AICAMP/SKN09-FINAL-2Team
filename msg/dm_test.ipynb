{
 "cells": [
  {
   "cell_type": "code",
   "execution_count": 17,
   "id": "a5863abf",
   "metadata": {},
   "outputs": [
    {
     "name": "stdout",
     "output_type": "stream",
     "text": [
      "{'participants': [{'name': 'á\\x84\\x92á\\x85®á\\x86«á\\x84\\x91á\\x85\\xad'}, {'name': 'í\\x97\\x88ì\\xa0\\x95ì\\x9c¤'}], 'messages': [{'sender_name': 'í\\x97\\x88ì\\xa0\\x95ì\\x9c¤', 'timestamp_ms': 1740395111110, 'content': 'ì\\x95\\x8cê²\\x8cë\\x94°', 'is_geoblocked_for_viewer': False, 'is_unsent_image_by_messenger_kid_parent': False}, {'sender_name': 'í\\x97\\x88ì\\xa0\\x95ì\\x9c¤', 'timestamp_ms': 1740395103858, 'content': 'ã\\x85\\x8bã\\x85\\x8bã\\x85\\x8bã\\x85\\x8bã\\x85\\x8bã\\x85\\x8b', 'is_geoblocked_for_viewer': False, 'is_unsent_image_by_messenger_kid_parent': False}, {'sender_name': 'á\\x84\\x92á\\x85®á\\x86«á\\x84\\x91á\\x85\\xad', 'timestamp_ms': 1740395047739, 'content': 'ì\\x95\\x8cë\\xa0¤ì¤\\x98', 'is_geoblocked_for_viewer': False, 'is_unsent_image_by_messenger_kid_parent': False}, {'sender_name': 'á\\x84\\x92á\\x85®á\\x86«á\\x84\\x91á\\x85\\xad', 'timestamp_ms': 1740395044131, 'content': 'ë\\x82\\xa0ì§\\x9cë\\x82\\x98ì\\x98¤ë©´', 'is_geoblocked_for_viewer': False, 'is_unsent_image_by_messenger_kid_parent': False}, {'sender_name': 'í\\x97\\x88ì\\xa0\\x95ì\\x9c¤', 'timestamp_ms': 1740388896153, 'content': 'ì\\x95\\x84ì§\\x81ì\\x9d¼ë\\x85\\x84ë\\x8f\\x84 ë\\x8d\\x94ë\\x82¨ì\\x95\\x98ë\\x8b¤', 'is_geoblocked_for_viewer': False, 'is_unsent_image_by_messenger_kid_parent': False}, {'sender_name': 'í\\x97\\x88ì\\xa0\\x95ì\\x9c¤', 'timestamp_ms': 1740388891377, 'content': 'ã\\x85\\x8bã\\x85\\x8bã\\x85\\x8bã\\x85\\x8bã\\x85\\x8b', 'is_geoblocked_for_viewer': False, 'is_unsent_image_by_messenger_kid_parent': False}, {'sender_name': 'á\\x84\\x92á\\x85®á\\x86«á\\x84\\x91á\\x85\\xad', 'timestamp_ms': 1740387784071, 'content': 'ì\\xa0\\x95ì\\x9c¤ ì\\x99\\x9cì¼\\x80 ë\\x8b¬ë\\x8b¬í\\x95´ ê²°í\\x98¼ ì\\x96¸ì\\xa0\\x9c', 'share': {'link': 'https://instagram.com/stories/hye.jeongyoon/3574382083151974273'}, 'is_geoblocked_for_viewer': False, 'is_unsent_image_by_messenger_kid_parent': False}, {'sender_name': 'í\\x97\\x88ì\\xa0\\x95ì\\x9c¤', 'timestamp_ms': 1726145865680, 'content': 'ê³\\xa0ë§\\x99ë\\x8b¤', 'is_geoblocked_for_viewer': False, 'is_unsent_image_by_messenger_kid_parent': False}, {'sender_name': 'í\\x97\\x88ì\\xa0\\x95ì\\x9c¤', 'timestamp_ms': 1726145863533, 'content': 'ã\\x85\\x8bã\\x85\\x8bã\\x85\\x8bã\\x85\\x8b', 'is_geoblocked_for_viewer': False, 'is_unsent_image_by_messenger_kid_parent': False}, {'sender_name': 'á\\x84\\x92á\\x85®á\\x86«á\\x84\\x91á\\x85\\xad', 'timestamp_ms': 1726138346905, 'content': 'ë³´ê¸°ì¢\\x8bì\\x95\\x84 ã\\x85\\x8eã\\x85\\x8e', 'is_geoblocked_for_viewer': False, 'is_unsent_image_by_messenger_kid_parent': False}, {'sender_name': 'á\\x84\\x92á\\x85®á\\x86«á\\x84\\x91á\\x85\\xad', 'timestamp_ms': 1726138345398, 'content': 'ë\\x85¸', 'is_geoblocked_for_viewer': False, 'is_unsent_image_by_messenger_kid_parent': False}, {'sender_name': 'í\\x97\\x88ì\\xa0\\x95ì\\x9c¤', 'timestamp_ms': 1726136085640, 'content': 'ã\\x85\\x8bã\\x85\\x8bã\\x85\\x8bã\\x85\\x8bì\\x98¤ê¸\\x80ê²\\x85ë\\xa0¤?', 'is_geoblocked_for_viewer': False, 'is_unsent_image_by_messenger_kid_parent': False}, {'sender_name': 'á\\x84\\x92á\\x85®á\\x86«á\\x84\\x91á\\x85\\xad', 'timestamp_ms': 1726132260543, 'content': 'ë¶\\x80ë\\x9f½ë\\x8b¤!', 'share': {'link': 'https://instagram.com/stories/hye.jeongyoon/3455355369768562123'}, 'is_geoblocked_for_viewer': False, 'is_unsent_image_by_messenger_kid_parent': False}, {'sender_name': 'á\\x84\\x92á\\x85®á\\x86«á\\x84\\x91á\\x85\\xad', 'timestamp_ms': 1726132248867, 'content': 'ì\\x9c¼ ì\\x82¬ë\\x9e\\x91ê¾¼', 'share': {'link': 'https://instagram.com/stories/hye.jeongyoon/3455355369768562123'}, 'is_geoblocked_for_viewer': False, 'is_unsent_image_by_messenger_kid_parent': False}], 'title': 'á\\x84\\x92á\\x85®á\\x86«á\\x84\\x91á\\x85\\xadë\\x8b\\x98', 'is_still_participant': True, 'thread_path': 'inbox/hunpyonim_892062749073241', 'magic_words': []}\n"
     ]
    }
   ],
   "source": [
    "import json\n",
    "\n",
    "# key = input(\"이름을 입력하세요: \")\n",
    "key = \"정윤\"\n",
    "\n",
    "filename = \"message_1.json\"\n",
    "filename = \"message_111.json\"\n",
    "filename = \"message_123.json\"\n",
    "\n",
    "# 원본 문자열\n",
    "raw_chat = \"\"\n",
    "with open(filename, 'r') as f:\n",
    "    raw_chat = f.read()\n",
    "    raw_chat = json.loads(raw_chat)\n",
    "# print(raw_chat)\n",
    "\n",
    "def decode_utf8_escaped(s):\n",
    "    return s.encode('latin1').decode('utf-8')\n",
    "\n",
    "print(raw_chat)\n",
    "messages = raw_chat[\"messages\"]\n",
    "for i in range(len(messages)):\n",
    "    messages[i]['sender_name'] = decode_utf8_escaped(messages[i]['sender_name'])\n",
    "    if 'content' in messages[i]:\n",
    "        messages[i]['content'] = decode_utf8_escaped(messages[i]['content'])"
   ]
  },
  {
   "cell_type": "code",
   "execution_count": null,
   "id": "466a4423",
   "metadata": {},
   "outputs": [
    {
     "name": "stdout",
     "output_type": "stream",
     "text": [
      "[2024-09-12]\n",
      "18:10 - 상대방: 으 사랑꾼\n",
      "18:11 - 상대방: 부럽다!\n",
      "19:14 - 나: ㅋㅋ오글겅려?\n",
      "19:52 - 상대방: 노 | 보기좋아 ㅎㅎ\n",
      "21:57 - 나: ㅋㅋ | 고맙다\n",
      "\n",
      "[2025-02-24]\n",
      "18:03 - 상대방: 정윤 왜케 달달해 결혼 언제\n",
      "18:21 - 나: ㅋㅋ | 아직일년도 더남았다\n",
      "20:04 - 상대방: 날짜나오면 | 알려줘\n",
      "20:05 - 나: ㅋㅋ | 알게따\n"
     ]
    }
   ],
   "source": [
    "from collections import defaultdict\n",
    "import re\n",
    "from datetime import datetime\n",
    "import os\n",
    "\n",
    "def normalize_message(content):\n",
    "    content = content.strip()\n",
    "    if '이모티콘' in content:\n",
    "        return '(이모티콘)'\n",
    "    if '사진' in content:\n",
    "        return '(사진)'\n",
    "    # 감탄사, 말줄임표 치환\n",
    "    content = re.sub(r'(!|ㄷ|ㅎ|ㅋ|ㅠ|ㅜ|\\?|헐|하|헤|호|흐|허|와우|오오|진짜){2,}', r'\\1\\1', content)\n",
    "    content = re.sub(r'\\.{3,}', '...', content)\n",
    "    # 링크 치환\n",
    "    content = re.sub(r'http[s]?://\\S+', '(링크)', content)\n",
    "    # 계좌번호 (10~14자리)\n",
    "    content = re.sub(r'\\b\\d{10,14}\\b', '(계좌번호)', content)\n",
    "    # 휴대폰/집전화번호\n",
    "    content = re.sub(r'\\b01[016789]-?\\d{3,4}-?\\d{4}\\b', '(전화번호)', content)\n",
    "    content = re.sub(r'\\b(0\\d{1,2}-?\\d{3,4}-?\\d{4})\\b', '(전화번호)', content)\n",
    "    # 카드번호\n",
    "    content = re.sub(r'\\b\\d{4}-\\d{4}-\\d{4}-\\d{4}|\\d{16}\\b', '(카드번호)', content)\n",
    "    # 이메일 주소 치환\n",
    "    content = re.sub(r'\\b[\\w\\.-]+@[\\w\\.-]+\\.\\w+\\b', '(이메일)', content)\n",
    "    return content\n",
    "\n",
    "# ---- 메인 로직 ----\n",
    "sorted_data = sorted(messages, key=lambda x: x['timestamp_ms'])\n",
    "grouped_by_date = defaultdict(lambda: defaultdict(lambda: defaultdict(list)))\n",
    "\n",
    "for item in sorted_data:\n",
    "    if 'content' in item and \"sent an attachment\" not in item['content']:\n",
    "        timestamp = datetime.fromtimestamp(item['timestamp_ms'] / 1000.0)\n",
    "        date_str = timestamp.strftime(\"%Y-%m-%d\")\n",
    "        time_str = timestamp.strftime(\"%H:%M\")\n",
    "        sender = \"나\" if key in item['sender_name'] else \"상대방\"\n",
    "        content = normalize_message(item['content'])\n",
    "        grouped_by_date[date_str][time_str][sender].append(content)\n",
    "\n",
    "formatted_lines = []\n",
    "for date in sorted(grouped_by_date):\n",
    "    formatted_lines.append(f\"[{date}]\")\n",
    "    for time in sorted(grouped_by_date[date]):\n",
    "        for sender in grouped_by_date[date][time]:\n",
    "            merged_msg = \" | \".join(grouped_by_date[date][time][sender])\n",
    "            formatted_lines.append(f\"{time} - {sender}: {merged_msg}\")\n",
    "    formatted_lines.append(\"\")\n",
    "\n",
    "formatted_chat = \"\\n\".join(formatted_lines).strip()\n",
    "\n",
    "os.makedirs('processed', exist_ok=True)\n",
    "with open(f'processed/{filename}.txt', 'w', encoding='utf-8') as f:\n",
    "    f.write(formatted_chat)\n",
    "print(formatted_chat)\n"
   ]
  },
  {
   "cell_type": "code",
   "execution_count": null,
   "id": "b78fe199",
   "metadata": {},
   "outputs": [],
   "source": []
  }
 ],
 "metadata": {
  "kernelspec": {
   "display_name": "vectordb_env",
   "language": "python",
   "name": "python3"
  },
  "language_info": {
   "codemirror_mode": {
    "name": "ipython",
    "version": 3
   },
   "file_extension": ".py",
   "mimetype": "text/x-python",
   "name": "python",
   "nbconvert_exporter": "python",
   "pygments_lexer": "ipython3",
   "version": "3.9.21"
  }
 },
 "nbformat": 4,
 "nbformat_minor": 5
}
