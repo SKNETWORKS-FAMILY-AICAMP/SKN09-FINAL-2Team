{
 "cells": [
  {
   "cell_type": "code",
   "execution_count": 1,
   "id": "8bc61c03",
   "metadata": {},
   "outputs": [
    {
     "name": "stderr",
     "output_type": "stream",
     "text": [
      "c:\\Users\\Playdata\\AppData\\Local\\anaconda3\\envs\\langgraph_env\\Lib\\site-packages\\tqdm\\auto.py:21: TqdmWarning: IProgress not found. Please update jupyter and ipywidgets. See https://ipywidgets.readthedocs.io/en/stable/user_install.html\n",
      "  from .autonotebook import tqdm as notebook_tqdm\n"
     ]
    },
    {
     "name": "stdout",
     "output_type": "stream",
     "text": [
      "🎁 선물 추천 챗봇 Senpick에 오신 걸 환영합니다!\n",
      "챗봇과 대화를 시작하세요. (종료하려면 '종료' 입력)\n",
      "----------------------------------------\n",
      "\n",
      "🤖: 안녕하세요! 어떤 상황이나 감정에 맞는 선물을 찾고 계신가요? (예: 감사, 기념일, 취업 등)\n",
      "\n",
      "\n",
      "==== extract_situation 진입 ====\n",
      "\n",
      "--- [LLM 응답 원문] ---\n",
      "content='{\"closeness\":\"독립한 자녀와 어머니\",\"emotion\":\"감사\",\"preferred_style\":\"모던\",\"price_range\":\"7만원\"}' additional_kwargs={'refusal': None} response_metadata={'token_usage': {'completion_tokens': 31, 'prompt_tokens': 216, 'total_tokens': 247, 'completion_tokens_details': {'accepted_prediction_tokens': 0, 'audio_tokens': 0, 'reasoning_tokens': 0, 'rejected_prediction_tokens': 0}, 'prompt_tokens_details': {'audio_tokens': 0, 'cached_tokens': 0}}, 'model_name': 'gpt-4o-mini-2024-07-18', 'system_fingerprint': 'fp_54eb4bd693', 'id': 'chatcmpl-BaF37atRAnE5KHtX1lPzk1A83NFpy', 'service_tier': 'default', 'finish_reason': 'stop', 'logprobs': None} id='run--a899d839-0238-49a2-94f0-1427c8725d3a-0' usage_metadata={'input_tokens': 216, 'output_tokens': 31, 'total_tokens': 247, 'input_token_details': {'audio': 0, 'cache_read': 0}, 'output_token_details': {'audio': 0, 'reasoning': 0}}\n",
      "[LLM 최종 텍스트 응답]: {\"closeness\":\"독립한 자녀와 어머니\",\"emotion\":\"감사\",\"preferred_style\":\"모던\",\"price_range\":\"7만원\"}\n",
      "--- [파싱 결과] ---\n",
      "{'closeness': '독립한 자녀와 어머니', 'emotion': '감사', 'preferred_style': '모던', 'price_range': '7만원'}\n",
      "-----------------------\n",
      "==== extract_situation 종료 ====\n",
      "\n",
      "\n",
      "\n",
      "\u001b[1m> Entering new AgentExecutor chain...\u001b[0m\n",
      "\u001b[32;1m\u001b[1;3m\n",
      "Invoking: `rds_tool` with `{'query': \"SELECT * FROM PRODUCT WHERE category='테마/기념일 선물' AND price <= 70000 LIMIT 5\"}`\n",
      "\n",
      "\n",
      "\u001b[0m\u001b[36;1m\u001b[1;3m[{'PRODUCT_ID': 11921, 'BRAND': '브랜드 없음', 'NAME': '오아 무드워머 타이머 캔들워머 높이조절 빛조절 무드등 할로겐전구 향초워머 - 무드등+캔들워머', 'CATEGORY': '테마/기념일 선물', 'SUB_CATEGORY': '무드등', 'OPTIONS': \"['무드워머-화이트 L0083 (남은수량 99,999)', '무드워머-우드 L0088 (남은수량 99,999)']\", 'LINK': 'https://www.ssg.com/item/itemView.ssg?itemId=1000540444609&siteNo=6004&salestrNo=6005', 'THUMBNAIL_URL': 'https://sitem.ssgcdn.com/09/46/44/item/1000540444609_i1_1200.jpg', 'PRICE': 44900, 'CREATED_AT': datetime.datetime(2025, 5, 12, 6, 53, 14)}, {'PRODUCT_ID': 11926, 'BRAND': '브랜드 없음', 'NAME': '아모램프 밸류2 AL-IW3V2W 수유등 무드등 취침등', 'CATEGORY': '테마/기념일 선물', 'SUB_CATEGORY': '무드등', 'OPTIONS': \"['밸류 화이트']\", 'LINK': 'https://www.ssg.com/item/itemView.ssg?itemId=1000022057058&siteNo=6009&salestrNo=1004', 'THUMBNAIL_URL': 'https://sitem.ssgcdn.com/58/70/05/item/1000022057058_i1_1200.jpg', 'PRICE': 33500, 'CREATED_AT': datetime.datetime(2025, 5, 12, 6, 53, 14)}, {'PRODUCT_ID': 11928, 'BRAND': '브랜드 없음', 'NAME': '봉봉 무드등', 'CATEGORY': '테마/기념일 선물', 'SUB_CATEGORY': '무드등', 'OPTIONS': \"['01 라이트 그레이', '02 스토로베리', '03 레몬']\", 'LINK': 'https://www.ssg.com/item/itemView.ssg?itemId=1000055415457&siteNo=6009&salestrNo=1019', 'THUMBNAIL_URL': 'https://sitem.ssgcdn.com/57/54/41/item/1000055415457_i1_1200.jpg', 'PRICE': 9025, 'CREATED_AT': datetime.datetime(2025, 5, 12, 6, 53, 14)}, {'PRODUCT_ID': 11929, 'BRAND': '브랜드 없음', 'NAME': '젤리 베어 무드등', 'CATEGORY': '테마/기념일 선물', 'SUB_CATEGORY': '무드등', 'OPTIONS': '[]', 'LINK': 'https://www.ssg.com/item/itemView.ssg?itemId=1000065469936&siteNo=6009&salestrNo=1017', 'THUMBNAIL_URL': 'https://sitem.ssgcdn.com/36/99/46/item/1000065469936_i1_1200.jpg', 'PRICE': 23655, 'CREATED_AT': datetime.datetime(2025, 5, 12, 6, 53, 14)}, {'PRODUCT_ID': 11931, 'BRAND': '브랜드 없음', 'NAME': '필립스 메이크업 미러 LED 조명 화장대 파우더룸 미러라이트 화장거울', 'CATEGORY': '테마/기념일 선물', 'SUB_CATEGORY': '무드등', 'OPTIONS': \"['필립스 메이크업 미러 LED 거울']\", 'LINK': 'https://www.ssg.com/item/itemView.ssg?itemId=1000308954193&siteNo=6004&salestrNo=6005', 'THUMBNAIL_URL': 'https://sitem.ssgcdn.com/93/41/95/item/1000308954193_i1_1200.jpg', 'PRICE': 59000, 'CREATED_AT': datetime.datetime(2025, 5, 12, 6, 53, 14)}]\u001b[0m\u001b[32;1m\u001b[1;3m\n",
      "Invoking: `rag_tool` with `감사, 어머니, 모던 스타일, 7만원 이하`\n",
      "\n",
      "\n",
      "\u001b[0m\u001b[33;1m\u001b[1;3m상품명: [주문제작] 감사함을 전하는 선물 커스텀 카네이션 무드등 (+선물포장) 어버이날 스승의날 부모님 선생님 선물 생신 칠순 환갑, 대카테고리: 리빙/인테리어, 소카테고리: 조명/무드등, 가격: 33000, 브랜드: 굿즈마인, 옵션: ['1', '2', '3', '4']\n",
      "['너무 예쁘고 감동이에요불빛도 예쁩니다^^ 자녀에게받은 감사선물', '감동감동입니다^^넘 좋아요 자녀에게받은 응원선물', '부모님이 좋아하세요 잘쓸게요 나에게받은 어버이날선물', '딸이 보내준 어버이선물넘 이쁘네요!감동받았어요 자녀에게받은 어버이날선물선물', '월요일에 시켰는데 수요일 어버이날 딱 맞춰서 배송왔어요 감사합니다 디자인이랑 글귀 다 예뻐요엄마가 자기 이름 들어가서 더 이쁘다고 안방에 무드등으로 박제하셨슴다 ㅋㅋㅋ ㅠㅠ가격도 착하고 넘 예뻐요 나에게받은 감사선물', '딸키운 보람 있어요~^^ 부모님에게받은 어버이날선물', '너무 맘에 들고 흡족!!왕 감사드립니다~마니 홍보하구 또 뵙겠습니다 나에게받은 감사선물', '따님이 어버이날 선물했는데 파손없이 잘 받았구요 넘 이쁩니다 심플하게 디자인도 넘이쁩니다 무드등으로 써도될듯합니다 자녀에게받은 어버이날선물']\n",
      "\n",
      "상품명: [인기급상승] [정상가 83,000원] 뮤트 미니 백팩 3컬러 택1, 대카테고리: 패션, 소카테고리: 브랜드잡화, 가격: 49900, 브랜드: 무센트, 옵션: ['Black', 'Blue', 'Beige']\n",
      "['너무 맘에들어요~2주넘게 걸렸는데 만족합니다가격도 착하고 너무너무 맘에 들어요 나에게 받은 재미 선물', '생각보다 가격은 좀 쎄네요 나에게 받은 응원 선물', '너무나 예쁘고 귀여워요 큰 책도 들어가고 넘 만족합니다 선후배에게 받은 감사 선물', '바스락바스락 가볍고 작고 귀엽네요 나에게 받은 그냥 선물', '좋아요좋아요~좋아요좋나요~ 친구에게 받은 생일 선물', '넘기여워요 마감도괜찮고근데 원가8만원대는 솔직히안믿김 친구에게 받은 생일 선물', '친구 선물로 딱 좋았어요! 할인 할때 사서 더 개이득 나에게 받은 졸업입학 선물', '정말 오래기다려서 받았어요거의 3주하지만 이뻐서 봐줍니당 친구에게 받은 생일 선물', '너무 예뻐요^^잘 들고다닐께요~ 형제자매에게 받은 생일 선물', '하도경 고마워 사랑해 연인에게 받은 사랑 선물', '휘뚜루마뚜루 잘 메고 다닐 가방 겟! 스타일리시 하면서도 편한 디자인이 너무 예뻐용 친구에게 받은 생일 선물', '방수 재질의 무난한 크기이면서도 이쁜 가방생일 선물 받았어용!! 형제자매에게 받은 생일 선물', '주문하고 나서부터 좀 기다렸는데기다린 보람을 전 느꼈네요^^가방이 귀여우면서도 품질이 좋아서 중학생인 딸도 탐내요^^ 잘 쓸께요! 나에게 받은 응원 선물']\n",
      "\n",
      "상품명: [정상가 38,900원] 무센트 시그니처 카모 볼캡 2컬러 택1, 대카테고리: 패션, 소카테고리: 브랜드 가방/지갑, 가격: 25900, 브랜드: 무센트, 옵션: ['Gray', 'Khaki - baby']\n",
      "['빠른배송 감사합니다 ~~예쁘네요~ 친구에게 받은 생일 선물', '제가 머리가 작아서 맞는 모자가 많이 없는데 생각한 것보다 찰떡이라서 너무 젛아요 친구에게 받은 생일 선물']\n",
      "\n",
      "상품명: [인기급상승] [정상가 83,000원] 뮤트 미니 백팩 3컬러 택1, 대카테고리: 패션, 소카테고리: 브랜드 가방/지갑, 가격: 49900, 브랜드: 무센트, 옵션: ['Black', 'Blue', 'Beige']\n",
      "['너무 맘에들어요~2주넘게 걸렸는데 만족합니다가격도 착하고 너무너무 맘에 들어요 나에게 받은 재미 선물', '생각보다 가격은 좀 쎄네요 나에게 받은 응원 선물', '너무나 예쁘고 귀여워요 큰 책도 들어가고 넘 만족합니다 선후배에게 받은 감사 선물', '바스락바스락 가볍고 작고 귀엽네요 나에게 받은 그냥 선물', '좋아요좋아요~좋아요좋나요~ 친구에게 받은 생일 선물', '넘기여워요 마감도괜찮고근데 원가8만원대는 솔직히안믿김 친구에게 받은 생일 선물', '친구 선물로 딱 좋았어요! 할인 할때 사서 더 개이득 나에게 받은 졸업입학 선물', '정말 오래기다려서 받았어요거의 3주하지만 이뻐서 봐줍니당 친구에게 받은 생일 선물', '너무 예뻐요^^잘 들고다닐께요~ 형제자매에게 받은 생일 선물', '하도경 고마워 사랑해 연인에게 받은 사랑 선물', '휘뚜루마뚜루 잘 메고 다닐 가방 겟! 스타일리시 하면서도 편한 디자인이 너무 예뻐용 친구에게 받은 생일 선물', '방수 재질의 무난한 크기이면서도 이쁜 가방생일 선물 받았어용!! 형제자매에게 받은 생일 선물', '주문하고 나서부터 좀 기다렸는데기다린 보람을 전 느꼈네요^^가방이 귀여우면서도 품질이 좋아서 중학생인 딸도 탐내요^^ 잘 쓸께요! 나에게 받은 응원 선물']\u001b[0m\u001b[32;1m\u001b[1;3mFinal Answer:  \n",
      "요청하신 조건에 맞춰 선물을 찾아봤어요!  \n",
      "감사한 마음을 전할 수 있는 모던한 스타일의 상품을 추천드립니다!  \n",
      "\n",
      "1.  \n",
      "- 상품명: 오아 무드워머 타이머 캔들워머  \n",
      "- 가격: ₩44,900  \n",
      "- 이미지: ![오아 무드워머 타이머 캔들워머](https://sitem.ssgcdn.com/09/46/44/item/1000540444609_i1_1200.jpg)  \n",
      "- 링크: [상품 링크](https://www.ssg.com/item/itemView.ssg?itemId=1000540444609&siteNo=6004&salestrNo=6005)  \n",
      "- 추천 이유: 모던한 디자인의 캔들워머로, 어머니께서 집에서 편안한 분위기를 즐기실 수 있도록 도와줍니다.  \n",
      "\n",
      "2.  \n",
      "- 상품명: 아모램프 밸류2 수유등 무드등  \n",
      "- 가격: ₩33,500  \n",
      "- 이미지: ![아모램프 밸류2 수유등 무드등](https://sitem.ssgcdn.com/58/70/05/item/1000022057058_i1_1200.jpg)  \n",
      "- 링크: [상품 링크](https://www.ssg.com/item/itemView.ssg?itemId=1000022057058&siteNo=6009&salestrNo=1004)  \n",
      "- 추천 이유: 부드러운 조명으로 어머니의 방에 아늑한 분위기를 더해줄 수 있는 제품입니다.  \n",
      "\n",
      "3.  \n",
      "- 상품명: 봉봉 무드등  \n",
      "- 가격: ₩9,025  \n",
      "- 이미지: ![봉봉 무드등](https://sitem.ssgcdn.com/57/54/41/item/1000055415457_i1_1200.jpg)  \n",
      "- 링크: [상품 링크](https://www.ssg.com/item/itemView.ssg?itemId=1000055415457&siteNo=6009&salestrNo=1019)  \n",
      "- 추천 이유: 귀여운 디자인의 무드등으로, 어머니께서 좋아하실 만한 아기자기한 매력을 가지고 있습니다.  \n",
      "\n",
      "4.  \n",
      "- 상품명: 필립스 메이크업 미러 LED 조명 화장대 미러  \n",
      "- 가격: ₩59,000  \n",
      "- 이미지: ![필립스 메이크업 미러 LED 조명 화장대 미러](https://sitem.ssgcdn.com/93/41/95/item/1000308954193_i1_1200.jpg)  \n",
      "- 링크: [상품 링크](https://www.ssg.com/item/itemView.ssg?itemId=1000308954193&siteNo=6004&salestrNo=6005)  \n",
      "- 추천 이유: 실용적이면서도 세련된 디자인으로, 어머니의 화장대에 잘 어울릴 것입니다.  \n",
      "\n",
      "이 상품들이 어머니께 감사한 마음을 전하는 데 도움이 되길 바랍니다!\u001b[0m\n",
      "\n",
      "\u001b[1m> Finished chain.\u001b[0m\n",
      "\n",
      "🤖: {'input': '감정: 감사, 스타일: 모던, 예산: 7만원원', 'chat_history': ['bot: 안녕하세요! 어떤 상황이나 감정에 맞는 선물을 찾고 계신가요? (예: 감사, 기념일, 취업 등)', 'user: 감사한 마음을 전할 수 있는 선물이었으면 좋겠어.  어머니는 모던한 걸 좋아하시고, 예산은 7만원 정도로 생각중이야.  최근 독립해서 얼굴을 많이 못보고 있어서 선물을 더 잘하고 싶어'], 'output': 'Final Answer:  \\n요청하신 조건에 맞춰 선물을 찾아봤어요!  \\n감사한 마음을 전할 수 있는 모던한 스타일의 상품을 추천드립니다!  \\n\\n1.  \\n- 상품명: 오아 무드워머 타이머 캔들워머  \\n- 가격: ₩44,900  \\n- 이미지: ![오아 무드워머 타이머 캔들워머](https://sitem.ssgcdn.com/09/46/44/item/1000540444609_i1_1200.jpg)  \\n- 링크: [상품 링크](https://www.ssg.com/item/itemView.ssg?itemId=1000540444609&siteNo=6004&salestrNo=6005)  \\n- 추천 이유: 모던한 디자인의 캔들워머로, 어머니께서 집에서 편안한 분위기를 즐기실 수 있도록 도와줍니다.  \\n\\n2.  \\n- 상품명: 아모램프 밸류2 수유등 무드등  \\n- 가격: ₩33,500  \\n- 이미지: ![아모램프 밸류2 수유등 무드등](https://sitem.ssgcdn.com/58/70/05/item/1000022057058_i1_1200.jpg)  \\n- 링크: [상품 링크](https://www.ssg.com/item/itemView.ssg?itemId=1000022057058&siteNo=6009&salestrNo=1004)  \\n- 추천 이유: 부드러운 조명으로 어머니의 방에 아늑한 분위기를 더해줄 수 있는 제품입니다.  \\n\\n3.  \\n- 상품명: 봉봉 무드등  \\n- 가격: ₩9,025  \\n- 이미지: ![봉봉 무드등](https://sitem.ssgcdn.com/57/54/41/item/1000055415457_i1_1200.jpg)  \\n- 링크: [상품 링크](https://www.ssg.com/item/itemView.ssg?itemId=1000055415457&siteNo=6009&salestrNo=1019)  \\n- 추천 이유: 귀여운 디자인의 무드등으로, 어머니께서 좋아하실 만한 아기자기한 매력을 가지고 있습니다.  \\n\\n4.  \\n- 상품명: 필립스 메이크업 미러 LED 조명 화장대 미러  \\n- 가격: ₩59,000  \\n- 이미지: ![필립스 메이크업 미러 LED 조명 화장대 미러](https://sitem.ssgcdn.com/93/41/95/item/1000308954193_i1_1200.jpg)  \\n- 링크: [상품 링크](https://www.ssg.com/item/itemView.ssg?itemId=1000308954193&siteNo=6004&salestrNo=6005)  \\n- 추천 이유: 실용적이면서도 세련된 디자인으로, 어머니의 화장대에 잘 어울릴 것입니다.  \\n\\n이 상품들이 어머니께 감사한 마음을 전하는 데 도움이 되길 바랍니다!'}\n",
      "\n",
      "챗봇을 종료합니다. 좋은 하루 되세요!\n"
     ]
    }
   ],
   "source": [
    "from chat import run_chatbot\n",
    "run_chatbot()\n"
   ]
  },
  {
   "cell_type": "code",
   "execution_count": null,
   "id": "853163a4",
   "metadata": {},
   "outputs": [],
   "source": []
  }
 ],
 "metadata": {
  "kernelspec": {
   "display_name": "langgraph_env",
   "language": "python",
   "name": "python3"
  },
  "language_info": {
   "codemirror_mode": {
    "name": "ipython",
    "version": 3
   },
   "file_extension": ".py",
   "mimetype": "text/x-python",
   "name": "python",
   "nbconvert_exporter": "python",
   "pygments_lexer": "ipython3",
   "version": "3.12.9"
  }
 },
 "nbformat": 4,
 "nbformat_minor": 5
}
