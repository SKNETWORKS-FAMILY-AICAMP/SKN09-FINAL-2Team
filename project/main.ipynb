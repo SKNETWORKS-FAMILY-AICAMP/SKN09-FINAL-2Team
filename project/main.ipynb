{
 "cells": [
  {
   "cell_type": "code",
   "execution_count": 1,
   "id": "671de015",
   "metadata": {},
   "outputs": [
    {
     "name": "stderr",
     "output_type": "stream",
     "text": [
      "/Users/jy/Documents/GitHub/SKN09-FINAL-2Team/project/chatbot.py:23: LangChainDeprecationWarning: Please see the migration guide at: https://python.langchain.com/docs/versions/migrating_memory/\n",
      "  memory = ConversationBufferMemory(memory_key=\"chat_history\", return_messages=True)\n",
      "/Users/jy/Documents/GitHub/SKN09-FINAL-2Team/project/chatbot.py:84: LangChainDeprecationWarning: The class `ConversationChain` was deprecated in LangChain 0.2.7 and will be removed in 1.0. Use :meth:`~RunnableWithMessageHistory: https://python.langchain.com/v0.2/api_reference/core/runnables/langchain_core.runnables.history.RunnableWithMessageHistory.html` instead.\n",
      "  conversation = ConversationChain(llm=chat_model, prompt=chat_prompt, memory=memory, verbose=False)\n"
     ]
    },
    {
     "name": "stdout",
     "output_type": "stream",
     "text": [
      "🎁 챗봇을 시작합니다. 종료하려면 '종료'라고 입력하세요.\n",
      "\n",
      "챗봇: 안녕하세요! 100일 기념일을 맞이해서 특별한 선물을 고민 중이시군요. 감정적인 선물을 원하시나요, 아니면 좀 더 실용적인 선물을 생각하고 계신가요? 어떤 느낌의 선물이 좋을지 말씀해 주시면 좋을 것 같아요!\n",
      "챗봇을 종료합니다.\n"
     ]
    }
   ],
   "source": [
    "import chatbot\n",
    "chatbot.chat()"
   ]
  }
 ],
 "metadata": {
  "kernelspec": {
   "display_name": "vectordb_env",
   "language": "python",
   "name": "python3"
  },
  "language_info": {
   "codemirror_mode": {
    "name": "ipython",
    "version": 3
   },
   "file_extension": ".py",
   "mimetype": "text/x-python",
   "name": "python",
   "nbconvert_exporter": "python",
   "pygments_lexer": "ipython3",
   "version": "3.9.21"
  }
 },
 "nbformat": 4,
 "nbformat_minor": 5
}
