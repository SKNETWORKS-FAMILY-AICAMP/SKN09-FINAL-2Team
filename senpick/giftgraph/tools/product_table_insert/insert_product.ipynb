{
 "cells": [
  {
   "cell_type": "code",
   "execution_count": null,
   "id": "f8e44e67",
   "metadata": {},
   "outputs": [],
   "source": [
    "!pip install mysql-connector-python"
   ]
  },
  {
   "cell_type": "code",
   "execution_count": null,
   "id": "cfb53218",
   "metadata": {},
   "outputs": [],
   "source": [
    "import pandas as pd\n",
    "import mysql.connector\n",
    "\n",
    "# 1. CSV 파일 불러오기\n",
    "csv_path = \"./sencpick_product_data.csv\"\n",
    "df = pd.read_csv(csv_path)\n",
    "\n",
    "# NaN 처리 (옵션: 빈 문자열이나 None으로 변환)\n",
    "# df = df.where(pd.notnull(df), None)\n",
    "\n",
    "# 2. MySQL 연결\n",
    "conn = mysql.connector.connect(\n",
    "    host=\"localhost\",\n",
    "    user=\"root\",        # ← 사용자 이름 입력\n",
    "    password=\"root\",# ← 비밀번호 입력\n",
    "    database=\"senpick_db\",      # ← 사용할 DB 이름 입력\n",
    ")\n",
    "cursor = conn.cursor()\n",
    "\n",
    "# 3. INSERT SQL 구문 (컬럼명은 CSV/테이블 구조에 맞게 수정)\n",
    "insert_sql = \"\"\"\n",
    "INSERT INTO PRODUCT (\n",
    "    name, brand, category, sub_category, options, price, link, thumbnail_url\n",
    ") VALUES (%s, %s, %s, %s, %s, %s, %s, %s)\n",
    "\"\"\"\n",
    "\n",
    "# 4. 데이터 삽입\n",
    "for _, row in df.iterrows():\n",
    "    cursor.execute(insert_sql, (\n",
    "        row[\"product_name\"],\n",
    "        row.get(\"brand\", \"브랜드 없음\"),\n",
    "        row[\"category_main\"],\n",
    "        row[\"category_sub\"],\n",
    "        row[\"options\"][:255],\n",
    "        float(row[\"price\"]),\n",
    "        row[\"product_url\"][:255],\n",
    "        row.get(\"thumbnail_url\", \"썸네일 없음\"),\n",
    "    ))\n",
    "\n",
    "# 5. 커밋 및 종료\n",
    "conn.commit()\n",
    "cursor.close()\n",
    "conn.close()\n",
    "\n",
    "print(\"✅ CSV 데이터가 MySQL에 성공적으로 삽입되었습니다.\")"
   ]
  },
  {
   "cell_type": "code",
   "execution_count": null,
   "id": "a695b2b6",
   "metadata": {},
   "outputs": [],
   "source": [
    "from langchain_qdrant import QdrantVectorStore\n",
    "from qdrant_client.models import Filter, FieldCondition, Range, MatchValue\n",
    "from qdrant_client import QdrantClient\n",
    "from langchain_huggingface import HuggingFaceEmbeddings\n",
    "\n",
    "qdrant = QdrantClient(url=\"http://localhost:6333\", prefer_grpc=False)\n",
    "embedding = HuggingFaceEmbeddings(model_name=\"intfloat/multilingual-e5-large-instruct\")\n",
    "vectorstore = QdrantVectorStore(\n",
    "    client=qdrant,\n",
    "    collection_name=\"senpick\",\n",
    "    embedding=embedding,\n",
    ")"
   ]
  },
  {
   "cell_type": "code",
   "execution_count": null,
   "id": "5b9098c2",
   "metadata": {},
   "outputs": [],
   "source": [
    "qdrant.scroll(\n",
    "    collection_name=\"senpick\",\n",
    "    scroll_filter=Filter(\n",
    "        must=[FieldCondition(key=\"price\", range=Range(gte=10000, lte=50000))]\n",
    "    ),\n",
    "    limit=3\n",
    ")"
   ]
  },
  {
   "cell_type": "code",
   "execution_count": null,
   "id": "dbbcaf2e",
   "metadata": {},
   "outputs": [],
   "source": [
    "docs = vectorstore.similarity_search(\n",
    "            \"고마운 멘토에게 5만원대의 멋진 스타일 선물을 준비했는데\", \n",
    "            k=5,\n",
    "            filter=Filter(\n",
    "                must=[\n",
    "                    FieldCondition(\n",
    "                        key=\"title\", \n",
    "                        match=MatchValue(value=\"[아트박스] 5만원권\")\n",
    "                    )\n",
    "                ]\n",
    "            )\n",
    ")\n",
    "docs"
   ]
  },
  {
   "cell_type": "code",
   "execution_count": null,
   "id": "2d71142f",
   "metadata": {},
   "outputs": [],
   "source": [
    "from qdrant_client.models import Filter, FieldCondition, Range, SearchRequest\n",
    "\n",
    "query_vector = embedding.embed_query(\"고마운 멘토에게 5만원대의 멋진 스타일 선물을 준비했는데\")\n",
    "\n",
    "results = qdrant.search(\n",
    "    collection_name=\"senpick\",\n",
    "    query_vector=query_vector,\n",
    "    limit=5,\n",
    "    query_filter=Filter(\n",
    "        must=[\n",
    "            FieldCondition(\n",
    "                key=\"price\",\n",
    "                range=Range(gte=10000, lte=50000)\n",
    "            )\n",
    "        ]\n",
    "    )\n",
    ")\n",
    "results"
   ]
  },
  {
   "cell_type": "code",
   "execution_count": null,
   "id": "ac4d698d",
   "metadata": {},
   "outputs": [],
   "source": [
    "vectorstore.similarity_search(\n",
    "            \"고마운 멘토에게 5만원대의 멋진 스타일 선물을 준비했는데\", \n",
    "            k=20,\n",
    "            filter=Filter(\n",
    "                must=[\n",
    "                    FieldCondition(\n",
    "                        key=\"Price\",\n",
    "                        range=Range(\n",
    "                            gte=9999,\n",
    "                            # lte=50000,\n",
    "                        ),\n",
    "                    )\n",
    "                ],\n",
    "            )\n",
    "        )"
   ]
  },
  {
   "cell_type": "code",
   "execution_count": null,
   "id": "18a7b343",
   "metadata": {},
   "outputs": [],
   "source": []
  }
 ],
 "metadata": {
  "kernelspec": {
   "display_name": "senpick_db",
   "language": "python",
   "name": "python3"
  },
  "language_info": {
   "codemirror_mode": {
    "name": "ipython",
    "version": 3
   },
   "file_extension": ".py",
   "mimetype": "text/x-python",
   "name": "python",
   "nbconvert_exporter": "python",
   "pygments_lexer": "ipython3",
   "version": "3.12.11"
  }
 },
 "nbformat": 4,
 "nbformat_minor": 5
}
