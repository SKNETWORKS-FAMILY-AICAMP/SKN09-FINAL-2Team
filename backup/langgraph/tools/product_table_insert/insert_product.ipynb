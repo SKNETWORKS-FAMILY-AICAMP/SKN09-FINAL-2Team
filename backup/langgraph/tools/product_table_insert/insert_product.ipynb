{
 "cells": [
  {
   "cell_type": "code",
   "execution_count": null,
   "id": "f8e44e67",
   "metadata": {},
   "outputs": [],
   "source": [
    "!pip install mysql-connector-python"
   ]
  },
  {
   "cell_type": "code",
   "execution_count": null,
   "id": "cfb53218",
   "metadata": {},
   "outputs": [],
   "source": [
    "import pandas as pd\n",
    "import mysql.connector\n",
    "\n",
    "# 1. CSV 파일 불러오기\n",
    "csv_path = \"./sencpick_product_data.csv\"\n",
    "df = pd.read_csv(csv_path)\n",
    "\n",
    "# NaN 처리 (옵션: 빈 문자열이나 None으로 변환)\n",
    "# df = df.where(pd.notnull(df), None)\n",
    "\n",
    "# 2. MySQL 연결\n",
    "conn = mysql.connector.connect(\n",
    "    host=\"localhost\",\n",
    "    user=\"root\",        # ← 사용자 이름 입력\n",
    "    password=\"root\",# ← 비밀번호 입력\n",
    "    database=\"senpick_db\",      # ← 사용할 DB 이름 입력\n",
    ")\n",
    "cursor = conn.cursor()\n",
    "\n",
    "# 3. INSERT SQL 구문 (컬럼명은 CSV/테이블 구조에 맞게 수정)\n",
    "insert_sql = \"\"\"\n",
    "INSERT INTO PRODUCT (\n",
    "    name, brand, category, sub_category, options, price, link, thumbnail_url\n",
    ") VALUES (%s, %s, %s, %s, %s, %s, %s, %s)\n",
    "\"\"\"\n",
    "\n",
    "# 4. 데이터 삽입\n",
    "for _, row in df.iterrows():\n",
    "    cursor.execute(insert_sql, (\n",
    "        row[\"product_name\"],\n",
    "        row.get(\"brand\", \"브랜드 없음\"),\n",
    "        row[\"category_main\"],\n",
    "        row[\"category_sub\"],\n",
    "        row[\"options\"][:255],\n",
    "        float(row[\"price\"]),\n",
    "        row[\"product_url\"][:255],\n",
    "        row.get(\"thumbnail_url\", \"썸네일 없음\"),\n",
    "    ))\n",
    "\n",
    "# 5. 커밋 및 종료\n",
    "conn.commit()\n",
    "cursor.close()\n",
    "conn.close()\n",
    "\n",
    "print(\"✅ CSV 데이터가 MySQL에 성공적으로 삽입되었습니다.\")"
   ]
  }
 ],
 "metadata": {
  "language_info": {
   "name": "python"
  }
 },
 "nbformat": 4,
 "nbformat_minor": 5
}
